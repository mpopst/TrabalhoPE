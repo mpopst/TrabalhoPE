{
 "cells": [
  {
   "cell_type": "code",
   "execution_count": 1,
   "metadata": {},
   "outputs": [],
   "source": [
    "import numpy as np\n",
    "from matplotlib import pyplot as pl"
   ]
  },
  {
   "cell_type": "code",
   "execution_count": 2,
   "metadata": {},
   "outputs": [],
   "source": [
    "def kernel_f(x, xl, sigma, l):\n",
    "    return sigma**2*np.exp(-.5 * (1/l**2) * (x-xl)**2)"
   ]
  },
  {
   "cell_type": "code",
   "execution_count": 3,
   "metadata": {},
   "outputs": [],
   "source": [
    "def K(X, Xl, sigma, l):\n",
    "    n, m = X.shape[0], Xl.shape[0]\n",
    "    K = np.zeros((n, m))\n",
    "    for i in range(n):\n",
    "        for j in range(m):\n",
    "            K[i,j] = kernel_f(X[i], Xl[j], sigma, l)\n",
    "    return K    "
   ]
  },
  {
   "cell_type": "code",
   "execution_count": 4,
   "metadata": {},
   "outputs": [],
   "source": [
    "def gaussian_fit_vec(X, X_new, Y, cov, l):\n",
    "    KXX = K(X, X, 1, 1)\n",
    "    KXnX = K(X_new, X, 1, 1)\n",
    "    KXXn = K(X, X_new, 1, 1)\n",
    "    KXnXn = K(X_new, X_new, 1, 1)\n",
    "    \n",
    "    aux = KXnX.dot(np.linalg.inv(KXX+np.multiply(1**2, np.identity(KXX.shape[0]))))\n",
    "\n",
    "    mean = aux.dot(Y)\n",
    "    print(aux.dot(KXXn))\n",
    "    print(cov**2*np.identity(KXnXn.shape[0]))\n",
    "    covariance = KXnXn + cov**2*np.identity(KXnXn.shape[0]) - aux.dot(KXXn)\n",
    "\n",
    "    return(mean, covariance)"
   ]
  },
  {
   "cell_type": "code",
   "execution_count": 5,
   "metadata": {},
   "outputs": [],
   "source": [
    "X = np.linspace(-5, 5, 9)\n",
    "Y = np.sin(X)+np.random.normal(loc = 0, scale = 0.001, size = 9)\n",
    "n = 1000\n",
    "Xn = np.linspace(-5, 5, n)"
   ]
  },
  {
   "cell_type": "code",
   "execution_count": 6,
   "metadata": {},
   "outputs": [
    {
     "name": "stdout",
     "output_type": "stream",
     "text": [
      "[[ 5.28199228e-01  5.28873188e-01  5.29502594e-01 ... -4.83386258e-08\n",
      "  -4.95883732e-08 -5.07639722e-08]\n",
      " [ 5.28873188e-01  5.29564645e-01  5.30211695e-01 ... -4.70344297e-08\n",
      "  -4.83490968e-08 -4.95883732e-08]\n",
      " [ 5.29502594e-01  5.30211695e-01  5.30876541e-01 ... -4.56536124e-08\n",
      "  -4.70344297e-08 -4.83386258e-08]\n",
      " ...\n",
      " [-4.83386258e-08 -4.70344297e-08 -4.56536124e-08 ...  5.30876541e-01\n",
      "   5.30211695e-01  5.29502594e-01]\n",
      " [-4.95883732e-08 -4.83490968e-08 -4.70344297e-08 ...  5.30211695e-01\n",
      "   5.29564645e-01  5.28873188e-01]\n",
      " [-5.07639722e-08 -4.95883732e-08 -4.83386258e-08 ...  5.29502594e-01\n",
      "   5.28873188e-01  5.28199228e-01]]\n",
      "[[1. 0. 0. ... 0. 0. 0.]\n",
      " [0. 1. 0. ... 0. 0. 0.]\n",
      " [0. 0. 1. ... 0. 0. 0.]\n",
      " ...\n",
      " [0. 0. 0. ... 1. 0. 0.]\n",
      " [0. 0. 0. ... 0. 1. 0.]\n",
      " [0. 0. 0. ... 0. 0. 1.]]\n"
     ]
    }
   ],
   "source": [
    "mu, cov = gaussian_fit_vec(X, Xn, Y,1,1)"
   ]
  },
  {
   "cell_type": "code",
   "execution_count": 7,
   "metadata": {},
   "outputs": [],
   "source": [
    "stdv = np.sqrt(np.diag(cov))"
   ]
  },
  {
   "cell_type": "code",
   "execution_count": 8,
   "metadata": {},
   "outputs": [
    {
     "data": {
      "image/png": "[encoded data removed]",
      "text/plain": [
       "<Figure size 432x288 with 1 Axes>"
      ]
     },
     "metadata": {
      "needs_background": "light"
     },
     "output_type": "display_data"
    }
   ],
   "source": [
    "pl.plot(X, Y, 'bs', ms=8, label=\"Pontos iniciais\")\n",
    "pl.plot(Xn, mu, label=\"Média\")\n",
    "pl.gca().fill_between(Xn, mu-2*stdv, mu+2*stdv, color=\"#dddddd\", label=\"Intervalo de confiança\")\n",
    "pl.plot(Xn, mu, 'r--', lw=2, label=\"Função aproximada\")\n",
    "pl.axis([-5, 5, -3, 3])\n",
    "#pl.title('Three samples from the GP posterior')\n",
    "pl.legend()\n",
    "pl.show()"
   ]
  },
  {
   "cell_type": "code",
   "execution_count": null,
   "metadata": {},
   "outputs": [],
   "source": []
  }
 ],
 "metadata": {
  "kernelspec": {
   "display_name": "Python 3",
   "language": "python",
   "name": "python3"
  },
  "language_info": {
   "codemirror_mode": {
    "name": "ipython",
    "version": 3
   },
   "file_extension": ".py",
   "mimetype": "text/x-python",
   "name": "python",
   "nbconvert_exporter": "python",
   "pygments_lexer": "ipython3",
   "version": "3.7.1"
  }
 },
 "nbformat": 4,
 "nbformat_minor": 2
}
