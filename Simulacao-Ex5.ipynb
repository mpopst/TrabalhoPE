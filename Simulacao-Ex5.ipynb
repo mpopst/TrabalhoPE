{
 "cells": [
  {
   "cell_type": "code",
   "execution_count": 1,
   "metadata": {},
   "outputs": [],
   "source": [
    "import numpy as np\n",
    "from matplotlib import pyplot as pl"
   ]
  },
  {
   "cell_type": "code",
   "execution_count": 2,
   "metadata": {},
   "outputs": [],
   "source": [
    "def kernel_f(x, xl, sigma, l):\n",
    "    return sigma**2*np.exp(-.5 * (1/l**2) * (x-xl)**2)"
   ]
  },
  {
   "cell_type": "code",
   "execution_count": 3,
   "metadata": {},
   "outputs": [],
   "source": [
    "def K(X, Xl, sigma, l):\n",
    "    n, m = X.shape[0], Xl.shape[0]\n",
    "    K = np.zeros((n, m))\n",
    "    for i in range(n):\n",
    "        for j in range(m):\n",
    "            K[i,j] = kernel_f(X[i], Xl[j], sigma, l)\n",
    "    return K    "
   ]
  },
  {
   "cell_type": "code",
   "execution_count": 74,
   "metadata": {},
   "outputs": [],
   "source": [
    "def gaussian_fit_vec(X, X_new, Y, sigma):\n",
    "    KXX = K(X, X, 1, 1)\n",
    "    KXnX = K(X_new, X, 1, 1)\n",
    "    KXXn = K(X, X_new, 1, 1)\n",
    "    KXnXn = K(X_new, X_new, 1, 1)\n",
    "    \n",
    "    aux = KXnX.dot(np.linalg.inv(KXX+sigma**2*np.identity(KXX.shape[0])))\n",
    "    print(np.multiply(sigma**2, np.identity(KXX.shape[0])))\n",
    "    mean = aux.dot(Y)\n",
    "    print(aux.dot(KXXn))\n",
    "    print(sigma**2*np.identity(KXnXn.shape[0]))\n",
    "    covariance = KXnXn + sigma**2*np.identity(KXnXn.shape[0]) - aux.dot(KXXn)\n",
    "\n",
    "    return(mean, covariance)"
   ]
  },
  {
   "cell_type": "code",
   "execution_count": 75,
   "metadata": {},
   "outputs": [],
   "source": [
    "X = np.linspace(-5, 5, 4)\n",
    "Y = np.sin(X)+np.random.normal(loc = 0, scale = 0.001, size = 4)\n",
    "n = 1000\n",
    "Xn = np.linspace(-5, 5, n)"
   ]
  },
  {
   "cell_type": "code",
   "execution_count": 76,
   "metadata": {},
   "outputs": [
    {
     "name": "stdout",
     "output_type": "stream",
     "text": [
      "[[0.01 0.   0.   0.  ]\n",
      " [0.   0.01 0.   0.  ]\n",
      " [0.   0.   0.01 0.  ]\n",
      " [0.   0.   0.   0.01]]\n",
      "[[ 9.90099011e-01  9.90049413e-01  9.89900625e-01 ... -4.42432737e-11\n",
      "  -2.45782479e-11 -5.55237918e-12]\n",
      " [ 9.90049413e-01  9.89999835e-01  9.89851072e-01 ... -1.95847962e-10\n",
      "  -1.08798454e-10 -2.45782479e-11]\n",
      " [ 9.89900625e-01  9.89851072e-01  9.89702349e-01 ... -3.52545676e-10\n",
      "  -1.95847962e-10 -4.42432737e-11]\n",
      " ...\n",
      " [-4.42432737e-11 -1.95847962e-10 -3.52545676e-10 ...  9.89702349e-01\n",
      "   9.89851072e-01  9.89900625e-01]\n",
      " [-2.45782479e-11 -1.08798454e-10 -1.95847962e-10 ...  9.89851072e-01\n",
      "   9.89999835e-01  9.90049413e-01]\n",
      " [-5.55237918e-12 -2.45782479e-11 -4.42432737e-11 ...  9.89900625e-01\n",
      "   9.90049413e-01  9.90099011e-01]]\n",
      "[[0.01 0.   0.   ... 0.   0.   0.  ]\n",
      " [0.   0.01 0.   ... 0.   0.   0.  ]\n",
      " [0.   0.   0.01 ... 0.   0.   0.  ]\n",
      " ...\n",
      " [0.   0.   0.   ... 0.01 0.   0.  ]\n",
      " [0.   0.   0.   ... 0.   0.01 0.  ]\n",
      " [0.   0.   0.   ... 0.   0.   0.01]]\n"
     ]
    }
   ],
   "source": [
    "mu, cov = gaussian_fit_vec(X, Xn, Y,0.1)"
   ]
  },
  {
   "cell_type": "code",
   "execution_count": 77,
   "metadata": {},
   "outputs": [],
   "source": [
    "stdv = np.sqrt(np.diag(cov))"
   ]
  },
  {
   "cell_type": "code",
   "execution_count": 79,
   "metadata": {},
   "outputs": [
    {
     "data": {
      "image/png": "[encoded data removed]",
      "text/plain": [
       "<Figure size 432x288 with 1 Axes>"
      ]
     },
     "metadata": {
      "needs_background": "light"
     },
     "output_type": "display_data"
    }
   ],
   "source": [
    "pl.plot(X, Y, 'bs', ms=8, label=\"Pontos iniciais\")\n",
    "pl.plot(Xn, mu, label=\"Média\")\n",
    "pl.gca().fill_between(Xn, mu-2*stdv, mu+2*stdv, color=\"#dddddd\", label=\"Intervalo de confiança\")\n",
    "pl.plot(Xn, mu, 'r--', lw=2, label=\"Função aproximada\")\n",
    "pl.axis([-5, 5, -3, 3])\n",
    "#pl.title('Three samples from the GP posterior')\n",
    "#pl.legend()\n",
    "pl.show()"
   ]
  },
  {
   "cell_type": "code",
   "execution_count": null,
   "metadata": {},
   "outputs": [],
   "source": []
  },
  {
   "cell_type": "code",
   "execution_count": null,
   "metadata": {},
   "outputs": [],
   "source": []
  }
 ],
 "metadata": {
  "kernelspec": {
   "display_name": "Python 3",
   "language": "python",
   "name": "python3"
  },
  "language_info": {
   "codemirror_mode": {
    "name": "ipython",
    "version": 3
   },
   "file_extension": ".py",
   "mimetype": "text/x-python",
   "name": "python",
   "nbconvert_exporter": "python",
   "pygments_lexer": "ipython3",
   "version": "3.7.1"
  }
 },
 "nbformat": 4,
 "nbformat_minor": 2
}
